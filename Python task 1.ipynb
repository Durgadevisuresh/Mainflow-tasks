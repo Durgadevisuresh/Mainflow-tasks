{
  "metadata": {
    "kernelspec": {
      "name": "python",
      "display_name": "Python (Pyodide)",
      "language": "python"
    },
    "language_info": {
      "codemirror_mode": {
        "name": "python",
        "version": 3
      },
      "file_extension": ".py",
      "mimetype": "text/x-python",
      "name": "python",
      "nbconvert_exporter": "python",
      "pygments_lexer": "ipython3",
      "version": "3.8"
    }
  },
  "nbformat_minor": 4,
  "nbformat": 4,
  "cells": [
    {
      "cell_type": "code",
      "source": "#creating a list\nmy_list=[1,2,3,4,5]\n\n#adding an element in the list\nmy_list.append(6)\n\n#removing an element in the list\nmy_list.remove(3)\n\n#modifying an element in the list\nmy_list[0]=10\n\n#inserting an element in the list\nmy_list.insert(2,'hi')\n\nprint('Updated List:',my_list)\n",
      "metadata": {
        "trusted": true
      },
      "outputs": [
        {
          "name": "stdout",
          "text": "Updated List: [10, 2, 'hi', 4, 5, 6]\n",
          "output_type": "stream"
        }
      ],
      "execution_count": 22
    },
    {
      "cell_type": "code",
      "source": "#creating a dictionary\nmy_dict={'name':'Durga','age':'21','city':'Pondicherry'}\n\n#adding a key value pair to the dictinary\nmy_dict['gender']='female'\n\n#deleting a key value pair to the dictinary\ndel my_dict['age']\n\n#modifying a key value pair to the dictinary\nmy_dict['city']='Chennai'\n\nprint('Updated dictionary:',my_dict)",
      "metadata": {
        "trusted": true
      },
      "outputs": [
        {
          "name": "stdout",
          "text": "Updated dictionary: {'name': 'Durga', 'city': 'Chennai', 'gender': 'female'}\n",
          "output_type": "stream"
        }
      ],
      "execution_count": 28
    },
    {
      "cell_type": "code",
      "source": "#original tuple\noriginal_tuple=(1,2,3)\n\n#Adding a new element to the tuple\nnew_element=4\nupdated_tuple=original_tuple+(new_element,)\n\n#Removing a new element to the tuple\nupdated_tuple=original_tuple[:1]+original_tuple[2:]\nmodified_element=5\n\n#Modifying a new element to the tupleZ\nupdated_tuple=original_tuple[:2]+(modified_element,)+original_tuple[3:]\nprint(updated_tuple)\n",
      "metadata": {
        "trusted": true
      },
      "outputs": [
        {
          "name": "stdout",
          "text": "(1, 2, 5)\n",
          "output_type": "stream"
        }
      ],
      "execution_count": 34
    },
    {
      "cell_type": "code",
      "source": "",
      "metadata": {
        "trusted": true
      },
      "outputs": [],
      "execution_count": null
    }
  ]
}